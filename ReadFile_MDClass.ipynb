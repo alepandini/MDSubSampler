{
 "cells": [
  {
   "cell_type": "code",
   "execution_count": 1,
   "id": "63828721",
   "metadata": {},
   "outputs": [
    {
     "name": "stdout",
     "output_type": "stream",
     "text": [
      "<AtomGroup [<Atom 5: CA of type C of resname MET, resid 1 and segid SYSTEM>, <Atom 22: CA of type C of resname ASN, resid 2 and segid SYSTEM>, <Atom 36: CA of type C of resname ILE, resid 3 and segid SYSTEM>, ..., <Atom 2592: CA of type C of resname LYS, resid 162 and segid SYSTEM>, <Atom 2614: CA of type C of resname ASN, resid 163 and segid SYSTEM>, <Atom 2628: CA of type C of resname LEU, resid 164 and segid SYSTEM>]>\n",
      "[[0.93130974 0.50214847 0.82959612]\n",
      " [0.6055559  0.25340172 0.17993287]\n",
      " [0.93836322 0.21012591 0.88892366]\n",
      " ...\n",
      " [0.26734974 0.75623805 0.37094061]\n",
      " [0.07755318 0.38956451 0.77017101]\n",
      " [0.45231056 0.78416087 0.69212857]]\n"
     ]
    }
   ],
   "source": [
    "import MDAnalysis as mda\n",
    "from MDAnalysis.coordinates.memory import MemoryReader\n",
    "import numpy as LyzoData\n",
    "import numpy as np\n",
    "import os\n",
    "def initiate_universe(topology, trajectory):\n",
    "    universe = mda.Universe(topology, trajectory)\n",
    "    return universe\n",
    "if __name__ == '__main__':\n",
    "    # File Setup\n",
    "    current_directory = os.getcwd()\n",
    "    \n",
    "    topology = os.path.join(current_directory, '/Users/riktapatel/Desktop/Disertation/Data/MD01_1lym_example.gro')\n",
    "    trajectory = os.path.join(current_directory, '/Users/riktapatel/Desktop/Disertation/Data/MD01_1lym_example.xtc')\n",
    "     \n",
    "LyzoData = initiate_universe(topology, trajectory)\n",
    "\n",
    "#print(LyzoData)\n",
    "type(LyzoData)\n",
    "LyzoData.atoms.positions\n",
    "LyzoData.trajectory\n",
    "len(LyzoData.atoms)\n",
    "\n",
    "list(LyzoData.atoms.names)\n",
    "Calpha = LyzoData.select_atoms(\"name CA\")\n",
    "# len(u1.atoms)\n",
    "\n",
    "print(Calpha)\n",
    "\n",
    "lyzCord = np.random.rand(len(LyzoData.atoms), 3)\n",
    "\n",
    "print(lyzCord)"
   ]
  },
  {
   "cell_type": "code",
   "execution_count": null,
   "id": "dec1f81d",
   "metadata": {},
   "outputs": [],
   "source": []
  }
 ],
 "metadata": {
  "kernelspec": {
   "display_name": "Python 3",
   "language": "python",
   "name": "python3"
  },
  "language_info": {
   "codemirror_mode": {
    "name": "ipython",
    "version": 3
   },
   "file_extension": ".py",
   "mimetype": "text/x-python",
   "name": "python",
   "nbconvert_exporter": "python",
   "pygments_lexer": "ipython3",
   "version": "3.7.4"
  }
 },
 "nbformat": 4,
 "nbformat_minor": 5
}
