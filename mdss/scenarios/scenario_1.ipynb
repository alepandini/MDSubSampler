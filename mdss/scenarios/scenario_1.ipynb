{
 "cells": [
  {
   "cell_type": "code",
   "execution_count": 36,
   "id": "c57d8980",
   "metadata": {},
   "outputs": [
    {
     "name": "stdout",
     "output_type": "stream",
     "text": [
      "/Users/namir_oues/Documents/PhD/MDSubSampler\n"
     ]
    }
   ],
   "source": [
    "%cd /Users/namir_oues/phd_code\n",
    "import mdss.protein_data as prot\n",
    "import mdss.property as p\n",
    "import mdss.geometrical_property as gp\n",
    "import mdss.sampler as s\n",
    "import mdss.dissimilarity as d\n",
    "import mdss.graph as g\n",
    "import pandas as pd\n",
    "import tempfile\n",
    "from IPython.display import Image, display\n",
    "import os\n",
    "import sys"
   ]
  },
  {
   "cell_type": "code",
   "execution_count": 37,
   "id": "69728823",
   "metadata": {},
   "outputs": [
    {
     "name": "stdout",
     "output_type": "stream",
     "text": [
      "/var/folders/m8/r77_hkt94w50_3m6b6qcwd780000gn/T/tmpgv0u3h5n\n"
     ]
    }
   ],
   "source": [
    "trajectory_file = \"/Users/namir_oues/Documents/PhD/MDSubSampler/data/input.xtc\"\n",
    "topology_file = \"/Users/namir_oues/Documents/PhD/MDSubSampler/data/input.gro\"\n",
    "size_list = [0.25, 0.5, 1.0, 2.5, 5.0, 10.0, 20.0, 25.0, 50.0]\n",
    "atom_selection= \"name CA\"\n",
    "dissimilarity_measure = d.Bhattacharyya\n",
    "temp_dir = tempfile.mkdtemp()\n",
    "print(temp_dir)"
   ]
  },
  {
   "cell_type": "code",
   "execution_count": 38,
   "id": "f79ea901",
   "metadata": {
    "scrolled": true
   },
   "outputs": [
    {
     "name": "stdout",
     "output_type": "stream",
     "text": [
      "<mdss.protein_data.ProteinData object at 0x1297c7f10>\n"
     ]
    }
   ],
   "source": [
    "p_data = prot.ProteinData(trajectory_file,topology_file,config_parameters=None)\n",
    "print(p_data)"
   ]
  },
  {
   "cell_type": "code",
   "execution_count": 39,
   "id": "6b078685",
   "metadata": {},
   "outputs": [
    {
     "name": "stdout",
     "output_type": "stream",
     "text": [
      "<mdss.geometrical_property.RMSD object at 0x1296ed730>\n"
     ]
    }
   ],
   "source": [
    "p_property = gp.RMSD(p_data, atom_selection, fit=True)\n",
    "print(p_property)"
   ]
  },
  {
   "cell_type": "code",
   "execution_count": 40,
   "id": "805101a1",
   "metadata": {},
   "outputs": [],
   "source": [
    "p_property.calculate_property()\n",
    "#print(p_property.property_vector)"
   ]
  },
  {
   "cell_type": "code",
   "execution_count": 41,
   "id": "07365a41",
   "metadata": {},
   "outputs": [
    {
     "name": "stdout",
     "output_type": "stream",
     "text": [
      "<mdss.sampler.RandomSampler object at 0x12964ecd0>\n"
     ]
    }
   ],
   "source": [
    "sampler = s.RandomSampler(\n",
    "            protein_property=p_property,\n",
    "            protein_data=p_data,\n",
    "            seed_number=1999,\n",
    "            output_folder=temp_dir,\n",
    "            file_prefix='scen1',\n",
    "            dissimilarity_measure=dissimilarity_measure,\n",
    "        )\n",
    "print(sampler)"
   ]
  },
  {
   "cell_type": "code",
   "execution_count": 42,
   "id": "d856b97f",
   "metadata": {},
   "outputs": [
    {
     "data": {
      "text/plain": [
       "<Figure size 432x288 with 0 Axes>"
      ]
     },
     "metadata": {},
     "output_type": "display_data"
    }
   ],
   "source": [
    "sampled_property = sampler.scan_sample_size(\n",
    "            perc_vector=size_list,\n",
    "            dissimilarity_threshold=None,\n",
    "            step_recording = False\n",
    "        )"
   ]
  },
  {
   "cell_type": "code",
   "execution_count": 43,
   "id": "2ebab56c",
   "metadata": {},
   "outputs": [
    {
     "name": "stdout",
     "output_type": "stream",
     "text": [
      "['scen1_RMSD.npy', 'scen1_RMSD.xtc', 'scen1_RMSD.dat', 'scen1_RMSD_plot.png']\n"
     ]
    }
   ],
   "source": [
    "print(os.listdir(temp_dir))"
   ]
  },
  {
   "cell_type": "code",
   "execution_count": 11,
   "id": "cfd03869",
   "metadata": {},
   "outputs": [
    {
     "data": {
      "image/png": "[encoded data removed]",
      "text/plain": [
       "<IPython.core.display.Image object>"
      ]
     },
     "metadata": {},
     "output_type": "display_data"
    },
    {
     "name": "stdout",
     "output_type": "stream",
     "text": [
      "76 1.5540426507624348\n",
      "935 5.514536865156922\n",
      "\n"
     ]
    }
   ],
   "source": [
    "for fname in os.listdir(temp_dir):\n",
    "    fpath = os.path.join(temp_dir, fname)\n",
    "    _, ext = os.path.splitext(fname)\n",
    "    if ext == '.png':\n",
    "        display(Image(filename=fpath))\n",
    "    if ext == '.dat':\n",
    "        with open(fpath, 'r') as file:\n",
    "            contents = file.read()\n",
    "            print(contents)  \n",
    "    "
   ]
  },
  {
   "cell_type": "code",
   "execution_count": null,
   "id": "022a6b75",
   "metadata": {},
   "outputs": [],
   "source": [
    "for fname in os.listdir(temp_dir):\n",
    "    fpath = os.path.join(temp_dir, fname)\n",
    "    _, ext = os.path.splitext(fname)\n",
    "    if ext == '.dat':\n",
    "        with open(fpath, 'r') as file:\n",
    "            contents = file.read()\n",
    "            print(contents)   "
   ]
  },
  {
   "cell_type": "code",
   "execution_count": null,
   "id": "29a2eaa8",
   "metadata": {},
   "outputs": [],
   "source": [
    "# Get the path to the temporary directory\n",
    "temp_dir = tempfile.gettempdir()\n",
    "\n",
    "# List the files in the temporary directory\n",
    "file_list = os.listdir(temp_dir)\n",
    "\n",
    "# Filter out directories from the file list\n",
    "file_list = [file_name for file_name in file_list if not os.path.isdir(os.path.join(temp_dir, file_name))]\n",
    "\n",
    "# Open each file and read its contents\n",
    "for file_name in file_list:\n",
    "    file_path = os.path.join(temp_dir, file_name)\n",
    "    with open(file_path, 'r') as file:\n",
    "        contents = file.read()\n",
    "        print(f\"Contents of {file_name}:\")\n",
    "        print(contents)"
   ]
  },
  {
   "cell_type": "code",
   "execution_count": null,
   "id": "5d87796b",
   "metadata": {},
   "outputs": [],
   "source": [
    "file_list"
   ]
  },
  {
   "cell_type": "code",
   "execution_count": null,
   "id": "b6cc5c55",
   "metadata": {},
   "outputs": [],
   "source": []
  },
  {
   "cell_type": "code",
   "execution_count": null,
   "id": "0a2ab247",
   "metadata": {},
   "outputs": [],
   "source": [
    "dissimilarity_object = d.Bhattacharyya(p_property, sampled_property)\n"
   ]
  },
  {
   "cell_type": "code",
   "execution_count": null,
   "id": "5f068370",
   "metadata": {},
   "outputs": [],
   "source": []
  }
 ],
 "metadata": {
  "kernelspec": {
   "display_name": "Python 3 (ipykernel)",
   "language": "python",
   "name": "python3"
  },
  "language_info": {
   "codemirror_mode": {
    "name": "ipython",
    "version": 3
   },
   "file_extension": ".py",
   "mimetype": "text/x-python",
   "name": "python",
   "nbconvert_exporter": "python",
   "pygments_lexer": "ipython3",
   "version": "3.9.1"
  }
 },
 "nbformat": 4,
 "nbformat_minor": 5
}
