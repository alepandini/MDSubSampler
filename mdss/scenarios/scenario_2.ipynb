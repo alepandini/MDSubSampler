{
 "cells": [
  {
   "cell_type": "code",
   "execution_count": 1,
   "id": "892d2c97",
   "metadata": {},
   "outputs": [
    {
     "name": "stdout",
     "output_type": "stream",
     "text": [
      "/Users/namir_oues/Documents/PhD/MDSubSampler\n"
     ]
    },
    {
     "name": "stderr",
     "output_type": "stream",
     "text": [
      "/Users/namir_oues/.pyenv/versions/3.9.1/lib/python3.9/site-packages/tqdm/auto.py:22: TqdmWarning: IProgress not found. Please update jupyter and ipywidgets. See https://ipywidgets.readthedocs.io/en/stable/user_install.html\n",
      "  from .autonotebook import tqdm as notebook_tqdm\n"
     ]
    }
   ],
   "source": [
    "%cd /Users/namir_oues/Documents/PhD/MDSubSampler\n",
    "import mdss.protein_data as pd\n",
    "import mdss.property as p\n",
    "import mdss.geometrical_property as gp\n",
    "import mdss.sampler as s\n",
    "import mdss.dissimilarity as d\n",
    "import mdss.graph as g\n",
    "import mdss.utilities as u\n",
    "import tempfile\n",
    "import os\n",
    "import sys\n",
    "from IPython.display import Image, display"
   ]
  },
  {
   "cell_type": "code",
   "execution_count": 2,
   "id": "6a934617",
   "metadata": {},
   "outputs": [],
   "source": [
    "trajectory_file = \"data/input.xtc\"\n",
    "topology_file = \"data/input.gro\"\n",
    "atom_selection = \"resid 120:160\"\n",
    "strata_number = 200\n",
    "size = 10\n",
    "dissimilarity_measure = d.Bhattacharyya\n",
    "temp_dir = tempfile.mkdtemp()"
   ]
  },
  {
   "cell_type": "code",
   "execution_count": 3,
   "id": "ca160af8",
   "metadata": {},
   "outputs": [
    {
     "name": "stdout",
     "output_type": "stream",
     "text": [
      "<mdss.protein_data.ProteinData object at 0x1122f4a90>\n"
     ]
    }
   ],
   "source": [
    "p_data = pd.ProteinData(trajectory_file,topology_file,config_parameters=None)\n",
    "print(p_data)"
   ]
  },
  {
   "cell_type": "code",
   "execution_count": 4,
   "id": "ad29180d",
   "metadata": {},
   "outputs": [
    {
     "name": "stdout",
     "output_type": "stream",
     "text": [
      "<mdss.geometrical_property.RMSD object at 0x1122f4520>\n"
     ]
    }
   ],
   "source": [
    "p_property = gp.RMSD(p_data, atom_selection, fit=True)\n",
    "print(p_property)"
   ]
  },
  {
   "cell_type": "code",
   "execution_count": 5,
   "id": "b3cf889d",
   "metadata": {},
   "outputs": [],
   "source": [
    "p_property.calculate_property()"
   ]
  },
  {
   "cell_type": "code",
   "execution_count": 6,
   "id": "0e6fd447",
   "metadata": {},
   "outputs": [
    {
     "name": "stdout",
     "output_type": "stream",
     "text": [
      "<mdss.sampler.UniformSampler object at 0x130f773a0>\n"
     ]
    }
   ],
   "source": [
    "sampler = s.UniformSampler(\n",
    "            protein_property=p_property,\n",
    "            protein_data=p_data,\n",
    "            output_folder=temp_dir,\n",
    "            file_prefix=None,\n",
    "            strata_number=strata_number,\n",
    "            dissimilarity_measure=dissimilarity_measure)\n",
    "print(sampler)"
   ]
  },
  {
   "cell_type": "code",
   "execution_count": 7,
   "id": "027246d6",
   "metadata": {},
   "outputs": [
    {
     "name": "stdout",
     "output_type": "stream",
     "text": [
      "<mdss.property.SampledProperty object at 0x130f943d0>\n"
     ]
    }
   ],
   "source": [
    "sampled_property = sampler.sample(round(int(size) * p_data.n_frames / 100))\n",
    "print(sampled_property)"
   ]
  },
  {
   "cell_type": "code",
   "execution_count": 8,
   "id": "481f6ec1",
   "metadata": {},
   "outputs": [
    {
     "name": "stdout",
     "output_type": "stream",
     "text": [
      "/var/folders/m8/r77_hkt94w50_3m6b6qcwd780000gn/T/tmpadjy0cp8\n",
      "[]\n"
     ]
    }
   ],
   "source": [
    "print(temp_dir)\n",
    "print(os.listdir(temp_dir))"
   ]
  },
  {
   "cell_type": "code",
   "execution_count": 10,
   "id": "b0e29e7d",
   "metadata": {},
   "outputs": [],
   "source": [
    "u.write_output_files(\n",
    "    output_folder=temp_dir,\n",
    "    file_prefix='scen2',\n",
    "    p_prop=p_property,\n",
    "    s_prop=sampled_property,\n",
    "    p_data=p_data,\n",
    "    p=size,\n",
    "    machine_learning=None,\n",
    ")"
   ]
  },
  {
   "cell_type": "code",
   "execution_count": 11,
   "id": "794ce7b5",
   "metadata": {},
   "outputs": [
    {
     "data": {
      "text/plain": [
       "<Figure size 432x288 with 0 Axes>"
      ]
     },
     "metadata": {},
     "output_type": "display_data"
    }
   ],
   "source": [
    "u.plot_property(output_folder=temp_dir,\n",
    "            file_prefix='scen2',\n",
    "            p_prop=p_property,\n",
    "            s_prop=sampled_property,\n",
    "            p=size,)\n"
   ]
  },
  {
   "cell_type": "code",
   "execution_count": 12,
   "id": "242d5068",
   "metadata": {},
   "outputs": [
    {
     "name": "stdout",
     "output_type": "stream",
     "text": [
      "0 1.4744275129937738\n",
      "366 1.59143542519017\n",
      "1 1.6403449217202701\n",
      "536 1.6588671378485005\n",
      "29 1.6872463430482636\n",
      "3 1.6939923090588904\n",
      "32 1.7110401110195808\n",
      "598 1.7238523269444865\n",
      "471 1.7353808864355145\n",
      "5 1.7418306177822853\n",
      "26 1.7501208894670455\n",
      "22 1.765510965503738\n",
      "28 1.7700160581441124\n",
      "569 1.7833170723018432\n",
      "712 1.7890080288385204\n",
      "458 1.7966169950739517\n",
      "381 1.8045684574460619\n",
      "14 1.8193994246403304\n",
      "47 1.8271891328149552\n",
      "570 1.836186542736266\n",
      "599 1.8445309781849653\n",
      "586 1.8602963285069811\n",
      "21 1.868736877955756\n",
      "20 1.874890229160361\n",
      "267 1.8836792145017824\n",
      "43 1.8963478998909364\n",
      "490 1.898813338611842\n",
      "373 1.91624642033088\n",
      "574 1.920873252058512\n",
      "609 1.9317485630801012\n",
      "390 1.9404578370822427\n",
      "107 1.9478485833831642\n",
      "575 1.957339258498001\n",
      "97 1.9684837294279103\n",
      "573 1.977010942110411\n",
      "614 1.9840890616531517\n",
      "101 1.9935251203575073\n",
      "419 2.0047476947994296\n",
      "593 2.018724391178954\n",
      "397 2.0247900623073867\n",
      "660 2.0336540488036796\n",
      "655 2.0399252918805324\n",
      "551 2.056606053909467\n",
      "326 2.059693698184261\n",
      "432 2.0710331752429547\n",
      "327 2.079222202957049\n",
      "315 2.096072420869091\n",
      "65 2.0976497627036066\n",
      "733 2.107043656988613\n",
      "393 2.1204012760128665\n",
      "270 2.126124853956357\n",
      "454 2.1402313897214276\n",
      "399 2.145054084824715\n",
      "72 2.1553105793606133\n",
      "338 2.169588392613053\n",
      "299 2.173372539604474\n",
      "747 2.1856001283499147\n",
      "157 2.1912755884384074\n",
      "403 2.205254531721794\n",
      "113 2.2107097220109506\n",
      "99 2.2224325541107133\n",
      "616 2.2358463937777677\n",
      "139 2.2434471536362937\n",
      "554 2.252017345074307\n",
      "266 2.2585044679386037\n",
      "332 2.2716293361564173\n",
      "431 2.278742998530434\n",
      "486 2.293037234560876\n",
      "626 2.3001801038654306\n",
      "781 2.3130823860812546\n",
      "179 2.314947818811934\n",
      "339 2.3248828767305936\n",
      "738 2.3367747597122928\n",
      "509 2.344013538877257\n",
      "672 2.355829781305867\n",
      "285 2.367501009320647\n",
      "251 2.378275720789304\n",
      "252 2.38790801272927\n",
      "184 2.391927989421173\n",
      "697 2.4043114428621366\n",
      "168 2.4135000338743264\n",
      "87 2.420508562340488\n",
      "188 2.43047870436396\n",
      "478 2.43685426019109\n",
      "404 2.45111633042112\n",
      "957 2.4562888949363146\n",
      "975 2.4647679344457685\n",
      "811 2.4739050371037403\n",
      "678 2.4838418039396983\n",
      "734 2.49611426955137\n",
      "246 2.5047694623153074\n",
      "480 2.5121760274340605\n",
      "701 2.5225474597937243\n",
      "189 2.530396138934054\n",
      "767 2.5483808447353016\n",
      "565 2.551316588143678\n",
      "335 2.5623156384716825\n",
      "667 2.5760018718413766\n",
      "318 2.585888331047709\n",
      "933 2.592932450156692\n",
      "973 2.5983522773648895\n",
      "985 2.6117574696077974\n",
      "92 2.6228765606082733\n",
      "854 2.632512478614645\n",
      "165 2.6395446857586324\n",
      "169 2.64992897614584\n",
      "894 2.661664464912086\n",
      "235 2.6634841778379346\n",
      "81 2.675974737248278\n",
      "900 2.6826081694583945\n",
      "809 2.6923352252206447\n",
      "797 2.70079653163329\n",
      "758 2.717538304827596\n",
      "238 2.7244070064324855\n",
      "963 2.7280966336858867\n",
      "756 2.746479018749511\n",
      "808 2.748553212060418\n",
      "912 2.7572420977619423\n",
      "909 2.768297394380759\n",
      "877 2.7823946976849845\n",
      "988 2.785080884952011\n",
      "995 2.7982568097114866\n",
      "935 2.8123854051309687\n",
      "788 2.814281142437446\n",
      "983 2.8291343752403235\n",
      "850 2.8373687844866526\n",
      "243 2.8430572994483683\n",
      "865 2.8570131117707476\n",
      "925 2.8669770105224877\n",
      "799 2.8770527548840326\n",
      "885 2.887387085144094\n",
      "873 2.8947092451422956\n",
      "348 2.904598468043973\n",
      "986 2.9093556117708173\n",
      "750 2.9182719734660894\n",
      "627 2.933036966675803\n",
      "668 2.939501382641379\n",
      "915 2.9534998843907125\n",
      "228 2.9597351611148874\n",
      "759 2.9683105417709936\n",
      "681 2.978928449820946\n",
      "839 2.9858225079696243\n",
      "302 2.997177157489676\n",
      "855 3.0121694004948636\n",
      "845 3.034865260520679\n",
      "757 3.0414331684824996\n",
      "841 3.0548008150002786\n",
      "905 3.0601216490413647\n",
      "937 3.079253155557055\n",
      "959 3.1031371801527827\n",
      "225 3.1457183594074216\n",
      "835 3.1597916824565395\n",
      "669 3.1789674541973842\n",
      "149 3.207503243865112\n",
      "838 3.2198186306114094\n",
      "226 3.2648819348142117\n",
      "160 3.2822362951473107\n",
      "227 3.3591568949503023\n",
      "\n"
     ]
    },
    {
     "data": {
      "image/png": "[encoded data removed]",
      "text/plain": [
       "<IPython.core.display.Image object>"
      ]
     },
     "metadata": {},
     "output_type": "display_data"
    }
   ],
   "source": [
    "for fname in os.listdir(temp_dir):\n",
    "    fpath = os.path.join(temp_dir, fname)\n",
    "    _, ext = os.path.splitext(fname)\n",
    "    if ext == '.png':\n",
    "        display(Image(filename=fpath))\n",
    "    if ext == '.dat':\n",
    "        with open(fpath, 'r') as file:\n",
    "            contents = file.read()\n",
    "            print(contents)  "
   ]
  },
  {
   "cell_type": "code",
   "execution_count": 16,
   "id": "cdcc4abc",
   "metadata": {},
   "outputs": [
    {
     "name": "stdout",
     "output_type": "stream",
     "text": [
      "['scen2_10_RMSD.dat', 'scen2_10_RMSD.npy', 'scen2_10_RMSD_plot.png', 'scen2_10_RMSD.xtc']\n"
     ]
    }
   ],
   "source": []
  },
  {
   "cell_type": "code",
   "execution_count": null,
   "id": "5620e76c",
   "metadata": {},
   "outputs": [],
   "source": []
  }
 ],
 "metadata": {
  "kernelspec": {
   "display_name": "Python 3 (ipykernel)",
   "language": "python",
   "name": "python3"
  },
  "language_info": {
   "codemirror_mode": {
    "name": "ipython",
    "version": 3
   },
   "file_extension": ".py",
   "mimetype": "text/x-python",
   "name": "python",
   "nbconvert_exporter": "python",
   "pygments_lexer": "ipython3",
   "version": "3.9.1"
  }
 },
 "nbformat": 4,
 "nbformat_minor": 5
}
