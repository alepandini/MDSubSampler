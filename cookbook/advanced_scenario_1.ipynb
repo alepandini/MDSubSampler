{
 "cells": [
  {
   "cell_type": "code",
   "execution_count": 189,
   "metadata": {},
   "outputs": [],
   "source": [
    "# import required packages\n",
    "import mdss.protein_data as prot\n",
    "import mdss.geometrical_property as gp\n",
    "import mdss.sampler as s\n",
    "import mdss.dissimilarity as d\n",
    "import mdss.utilities as u\n",
    "import tempfile\n",
    "import os\n",
    "from IPython.display import Image, display"
   ]
  },
  {
   "cell_type": "code",
   "execution_count": 190,
   "metadata": {},
   "outputs": [],
   "source": [
    "# set paths and all required arguments¶\n",
    "trajectory_file = \"data/input.xtc\" \n",
    "topology_file = \"data/input.gro\" \n",
    "atom_selection_global = \"name CA\"\n",
    "atom_selection_local = \"resid 120:160\"\n",
    "strata_number = 200\n",
    "size = 10\n",
    "dissimilarity_measure = d.Bhattacharyya\n",
    "\n",
    "# set a temporary directory to save all output files\n",
    "temp_dir = tempfile.mkdtemp()"
   ]
  },
  {
   "cell_type": "code",
   "execution_count": 191,
   "metadata": {},
   "outputs": [],
   "source": [
    "# create a protein data object\n",
    "p_data_global = prot.ProteinData(trajectory_file,topology_file,config_parameters=None)"
   ]
  },
  {
   "cell_type": "code",
   "execution_count": 192,
   "metadata": {},
   "outputs": [],
   "source": [
    "# create a protein property object for global RMSD\n",
    "p_property_global = gp.RMSD(p_data_global, atom_selection_global, fit=True)"
   ]
  },
  {
   "cell_type": "code",
   "execution_count": 193,
   "metadata": {},
   "outputs": [],
   "source": [
    "# calculate reference property for full trajectory for global RMSD\n",
    "p_property_global.calculate_property()"
   ]
  },
  {
   "cell_type": "code",
   "execution_count": 194,
   "metadata": {},
   "outputs": [],
   "source": [
    "# create uniform sampler object \n",
    "sampler_uniform = s.UniformSampler(\n",
    "            protein_property=p_property_global,\n",
    "            protein_data=p_data_global,\n",
    "            output_folder=temp_dir,\n",
    "            file_prefix='stage1',\n",
    "            strata_number = strata_number,\n",
    "            dissimilarity_measure=dissimilarity_measure,\n",
    "        )     "
   ]
  },
  {
   "cell_type": "code",
   "execution_count": 195,
   "metadata": {},
   "outputs": [],
   "source": [
    "# generate sampled property for specific sample size for global RMSD\n",
    "sampled_property_global = sampler_uniform.sample(round(int(size) * p_data_global.n_frames / 100))"
   ]
  },
  {
   "cell_type": "code",
   "execution_count": 196,
   "metadata": {},
   "outputs": [],
   "source": [
    "# generate trajectory and save output files in temporary directory\n",
    "u.write_output_files(\n",
    "    output_folder=temp_dir,\n",
    "    file_prefix='stage1',\n",
    "    p_prop=p_property_global,\n",
    "    s_prop=sampled_property_global,\n",
    "    p_data=p_data_global,\n",
    "    p=size,\n",
    "    machine_learning=None,\n",
    ")"
   ]
  },
  {
   "cell_type": "code",
   "execution_count": 197,
   "metadata": {},
   "outputs": [
    {
     "name": "stdout",
     "output_type": "stream",
     "text": [
      "['stage1_10_RMSD.npy', 'stage1_10_RMSD.xtc', 'stage1_10_RMSD.dat']\n"
     ]
    }
   ],
   "source": [
    "# check the output files generated in the temporary directory \n",
    "print(os.listdir(temp_dir))"
   ]
  },
  {
   "cell_type": "code",
   "execution_count": 198,
   "metadata": {},
   "outputs": [],
   "source": [
    "# Access generated new xtc file\n",
    "xtc_file = \"\"\n",
    "for fname in (os.listdir(temp_dir)):\n",
    "    fpath = os.path.join(temp_dir, fname)\n",
    "    _, ext = os.path.splitext(fname)\n",
    "    if ext == '.xtc':\n",
    "        xtc_file = fpath"
   ]
  },
  {
   "cell_type": "code",
   "execution_count": 199,
   "metadata": {},
   "outputs": [],
   "source": [
    "# create a protein data object from generated sample with global selection\n",
    "p_data_local = prot.ProteinData(xtc_file,topology_file,config_parameters=None)"
   ]
  },
  {
   "cell_type": "code",
   "execution_count": 200,
   "metadata": {},
   "outputs": [],
   "source": [
    "# create a protein property object for local RMSD\n",
    "p_property_local = gp.RMSD(p_data_local, atom_selection_local, fit=True)"
   ]
  },
  {
   "cell_type": "code",
   "execution_count": 201,
   "metadata": {},
   "outputs": [],
   "source": [
    "# calculate reference property for full trajectory for global RMSD\n",
    "p_property_local.calculate_property()"
   ]
  },
  {
   "cell_type": "code",
   "execution_count": 202,
   "metadata": {},
   "outputs": [
    {
     "name": "stdout",
     "output_type": "stream",
     "text": [
      "Weights not provided. They will be estimated from discretized property vector.\n"
     ]
    }
   ],
   "source": [
    "# create uniform sampler object \n",
    "sampler_weighted = s.WeightedSampler(\n",
    "            protein_property=p_property_local,\n",
    "            protein_data=p_data_local,\n",
    "            output_folder=temp_dir,\n",
    "            file_prefix='stage2',\n",
    "            weights_vector=None,\n",
    "            seed_number=1999,\n",
    "            dissimilarity_measure=dissimilarity_measure\n",
    ")"
   ]
  },
  {
   "cell_type": "code",
   "execution_count": 203,
   "metadata": {},
   "outputs": [],
   "source": [
    "# generate sampled property for specific sample size for global RMSD\n",
    "sampled_property_local = sampler_weighted.sample(round(int(size) * p_data_local.n_frames / 100))"
   ]
  },
  {
   "cell_type": "code",
   "execution_count": 204,
   "metadata": {},
   "outputs": [],
   "source": [
    "# generate trajectory and save output files in temporary directory\n",
    "u.write_output_files(\n",
    "    output_folder=temp_dir,\n",
    "    file_prefix='stage2',\n",
    "    p_prop=p_property_local,\n",
    "    s_prop=sampled_property_local,\n",
    "    p_data=p_data_local,\n",
    "    p=size,\n",
    "    machine_learning=None,\n",
    ")"
   ]
  },
  {
   "cell_type": "code",
   "execution_count": 205,
   "metadata": {},
   "outputs": [
    {
     "data": {
      "text/plain": [
       "<Figure size 640x480 with 0 Axes>"
      ]
     },
     "metadata": {},
     "output_type": "display_data"
    }
   ],
   "source": [
    "# generate plot for global and local and save files in temporary directory\n",
    "u.plot_property(output_folder=temp_dir,\n",
    "            file_prefix='stage1',\n",
    "            p_prop=p_property_global,\n",
    "            s_prop=sampled_property_global,\n",
    "            p=size,)\n",
    "\n",
    "u.plot_property(output_folder=temp_dir,\n",
    "            file_prefix='stage2',\n",
    "            p_prop=p_property_local,\n",
    "            s_prop=sampled_property_local,\n",
    "            p=size,)"
   ]
  },
  {
   "cell_type": "code",
   "execution_count": 206,
   "metadata": {},
   "outputs": [
    {
     "name": "stdout",
     "output_type": "stream",
     "text": [
      "['stage1_10_RMSD.npy', 'stage2_10_RMSD.xtc', 'stage1_10_RMSD.xtc', 'stage2_10_RMSD_plot.png', 'stage2_10_RMSD.npy', '.stage1_10_RMSD.xtc_offsets.npz', 'stage1_10_RMSD_plot.png', 'stage1_10_RMSD.dat', 'stage2_10_RMSD.dat']\n"
     ]
    }
   ],
   "source": [
    "# check the output files generated in the temporary directory \n",
    "print(os.listdir(temp_dir))"
   ]
  },
  {
   "cell_type": "code",
   "execution_count": 207,
   "metadata": {},
   "outputs": [
    {
     "name": "stdout",
     "output_type": "stream",
     "text": [
      "stage2_10_RMSD_plot.png\n"
     ]
    },
    {
     "data": {
      "image/png": "[encoded data removed]",
      "text/plain": [
       "<IPython.core.display.Image object>"
      ]
     },
     "metadata": {},
     "output_type": "display_data"
    },
    {
     "name": "stdout",
     "output_type": "stream",
     "text": [
      "stage1_10_RMSD_plot.png\n"
     ]
    },
    {
     "data": {
      "image/png": "[encoded data removed]",
      "text/plain": [
       "<IPython.core.display.Image object>"
      ]
     },
     "metadata": {},
     "output_type": "display_data"
    }
   ],
   "source": [
    "# display all distribution plots for all sample sizes \n",
    "for fname in (os.listdir(temp_dir)):\n",
    "    fpath = os.path.join(temp_dir, fname)\n",
    "    _, ext = os.path.splitext(fname)\n",
    "    if ext == '.png':\n",
    "        print(fname)\n",
    "        display(Image(filename=fpath))"
   ]
  },
  {
   "cell_type": "code",
   "execution_count": 209,
   "metadata": {},
   "outputs": [
    {
     "name": "stdout",
     "output_type": "stream",
     "text": [
      "stage1_10_RMSD.dat\n",
      "-----------------------\n",
      "21 1.277772339388071\n",
      "18 1.396260034314145\n",
      "74 1.4872574866401562\n",
      "81 1.5271363543029166\n",
      "24 1.551800945194343\n",
      "14 1.593266864584502\n",
      "15 1.6186476407948693\n",
      "101 1.6485928239345315\n",
      "174 1.6779970592814386\n",
      "351 1.7108303774716476\n",
      "312 1.7309281633044635\n",
      "37 1.752662697189771\n",
      "12 1.783218675631353\n",
      "452 1.813060627438866\n",
      "20 1.819295034842841\n",
      "80 1.8479267063049567\n",
      "242 1.8889846821765481\n",
      "517 1.8959751564917453\n",
      "104 1.9272239238610935\n",
      "614 1.9532127889602706\n",
      "308 1.982473470410436\n",
      "103 2.0054354383633117\n",
      "277 2.020063202564934\n",
      "17 2.0504720623184967\n",
      "620 2.0699063329000693\n",
      "178 2.0930735217486816\n",
      "249 2.116538473997571\n",
      "62 2.141123474619924\n",
      "360 2.1798458627248634\n",
      "247 2.2018290762178725\n",
      "589 2.2264291999099455\n",
      "739 2.2434599983980337\n",
      "201 2.2605796743718716\n",
      "753 2.2919949805595654\n",
      "523 2.3256949140149437\n",
      "243 2.335064528881346\n",
      "757 2.381604737474138\n",
      "418 2.395443319291142\n",
      "369 2.40924188483519\n",
      "198 2.4511637709961636\n",
      "586 2.4794576883162387\n",
      "361 2.489653483829824\n",
      "619 2.51593978957206\n",
      "460 2.5325988170860456\n",
      "616 2.574863235191843\n",
      "245 2.5831307310762956\n",
      "676 2.6147404283807085\n",
      "413 2.652026909992607\n",
      "285 2.6739997184998137\n",
      "186 2.6884235443027347\n",
      "442 2.7228441691128746\n",
      "461 2.747795198618474\n",
      "93 2.7691752761676356\n",
      "598 2.7940208824442134\n",
      "8 2.813763007719849\n",
      "721 2.8321748819358006\n",
      "536 2.8552510572975445\n",
      "408 2.883012899896532\n",
      "525 2.903079300633591\n",
      "427 2.942409614971599\n",
      "768 2.9592822318604335\n",
      "687 2.980621496196836\n",
      "298 3.011159523809398\n",
      "637 3.044696242985783\n",
      "563 3.059790557446016\n",
      "357 3.0826652448863636\n",
      "582 3.0990460814028453\n",
      "45 3.131511721000226\n",
      "353 3.1647480493883915\n",
      "211 3.189664433904127\n",
      "66 3.1927766595644855\n",
      "7 3.2382392611807957\n",
      "689 3.2428429205617357\n",
      "433 3.279033949332863\n",
      "199 3.300049624781062\n",
      "649 3.326346601616139\n",
      "68 3.3439500389179764\n",
      "655 3.3712808218388153\n",
      "163 3.391254061124848\n",
      "645 3.4196656895684656\n",
      "406 3.4569189655809103\n",
      "83 3.4638104459659695\n",
      "543 3.4918822619425476\n",
      "134 3.530433144870747\n",
      "677 3.5521048609127237\n",
      "440 3.567635560230033\n",
      "601 3.597355681861268\n",
      "531 3.629216414338686\n",
      "10 3.656179509598951\n",
      "593 3.666762700862496\n",
      "326 3.685956002865226\n",
      "123 3.7162868590819067\n",
      "633 3.749240696265769\n",
      "431 3.7590338393154257\n",
      "318 3.8016695212795453\n",
      "396 3.808679327761459\n",
      "722 3.8494868787826575\n",
      "639 3.8562634522614396\n",
      "124 3.880314496055443\n",
      "246 3.9259496863610437\n",
      "158 3.9498780272787144\n",
      "680 3.973223438416041\n",
      "584 3.986960117111682\n",
      "574 4.007164470736993\n",
      "432 4.043473136127897\n",
      "682 4.066197868962656\n",
      "497 4.0877738713964185\n",
      "572 4.1089889805565525\n",
      "597 4.131225421714763\n",
      "315 4.149670719822991\n",
      "50 4.233067442804147\n",
      "436 4.259847625671649\n",
      "455 4.285389255672718\n",
      "724 4.297707597033896\n",
      "322 4.336010867712331\n",
      "516 4.367712500081617\n",
      "651 4.396312517598754\n",
      "643 4.438326609159919\n",
      "726 4.529379243849612\n",
      "644 4.5693062694274\n",
      "160 4.603951252638818\n",
      "723 4.629915984996573\n",
      "498 4.654280077704854\n",
      "437 4.679206743733915\n",
      "730 4.728008416562822\n",
      "54 4.792987911869792\n",
      "780 4.859197384259182\n",
      "782 4.875532069882203\n",
      "778 4.946800546992512\n",
      "779 5.0445837707296235\n",
      "783 5.079687395299894\n",
      "55 5.087079517446262\n",
      "788 5.107213137930618\n",
      "956 5.136063803690221\n",
      "681 5.173412984302738\n",
      "986 5.182885093680787\n",
      "987 5.224789675647228\n",
      "976 5.25106456915021\n",
      "982 5.260589328443265\n",
      "961 5.289833156740753\n",
      "968 5.32150244228783\n",
      "903 5.344472417335315\n",
      "941 5.3581808843823735\n",
      "868 5.378675613571795\n",
      "971 5.4127038115879005\n",
      "994 5.425974752338691\n",
      "862 5.455536741254195\n",
      "917 5.484316273032143\n",
      "863 5.502013409252694\n",
      "904 5.545852926477608\n",
      "874 5.553395906865811\n",
      "830 5.588465126472867\n",
      "933 5.603372228076142\n",
      "877 5.623387290130637\n",
      "910 5.6480965807794\n",
      "809 5.672865207897917\n",
      "825 5.702740888217662\n",
      "832 5.73116989898502\n",
      "834 5.758959102134941\n",
      "802 5.784668784859994\n",
      "833 5.808882978144015\n",
      "813 5.827667888495201\n",
      "932 5.844441408925419\n",
      "811 5.871877914410346\n",
      "812 5.907718077668584\n",
      "819 5.9296265862595865\n",
      "820 5.944845401633824\n",
      "821 6.058014160330104\n",
      "824 6.111328472543951\n",
      "818 6.186305586685743\n",
      "\n",
      "-----------------------\n",
      "stage2_10_RMSD.dat\n",
      "-----------------------\n",
      "17 2.424403308069\n",
      "20 2.006078371063617\n",
      "90 2.0363058720755465\n",
      "154 2.803972745663393\n",
      "100 2.35617108402152\n",
      "163 2.733606243326576\n",
      "25 2.2553199412726745\n",
      "127 2.431587261135852\n",
      "135 2.6923352252206447\n",
      "103 2.1216247074870056\n",
      "7 1.8611991976033124\n",
      "62 2.20001728926838\n",
      "99 2.2358463937777677\n",
      "21 2.675974737248278\n",
      "44 2.539742227536122\n",
      "113 2.6237280014369935\n",
      "57 1.8856712161214875\n",
      "\n",
      "-----------------------\n"
     ]
    }
   ],
   "source": [
    "# display tables with calculated local property for all different sample sizes\n",
    "for fname in os.listdir(temp_dir):\n",
    "    fpath = os.path.join(temp_dir, fname)\n",
    "    _, ext = os.path.splitext(fname)\n",
    "    if ext == '.dat':\n",
    "            with open(fpath, 'r') as file:\n",
    "                contents = file.read()\n",
    "                print(fname)\n",
    "                print('-----------------------')\n",
    "                print(contents)  \n",
    "                print('-----------------------')"
   ]
  }
 ],
 "metadata": {
  "interpreter": {
   "hash": "51d32f347e4adfe14467e13533c0a5cec74c84358d32d22a71b7ef0a094ea8b1"
  },
  "kernelspec": {
   "display_name": "Python 3.8.10 ('mdsubsampler-tIoKDgOV-py3.9')",
   "language": "python",
   "name": "python3"
  },
  "language_info": {
   "codemirror_mode": {
    "name": "ipython",
    "version": 3
   },
   "file_extension": ".py",
   "mimetype": "text/x-python",
   "name": "python",
   "nbconvert_exporter": "python",
   "pygments_lexer": "ipython3",
   "version": "3.9.1"
  },
  "orig_nbformat": 4
 },
 "nbformat": 4,
 "nbformat_minor": 2
}
