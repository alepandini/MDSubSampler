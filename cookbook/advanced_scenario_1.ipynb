{
 "cells": [
  {
   "cell_type": "code",
   "execution_count": null,
   "metadata": {},
   "outputs": [],
   "source": [
    "# import required packages\n",
    "%cd /Users/namir_oues/Documents/PhD/MDSubSampler\n",
    "import mdss.protein_data as prot\n",
    "import mdss.geometrical_property as gp\n",
    "import mdss.sampler as s\n",
    "import mdss.dissimilarity as d\n",
    "import tempfile\n",
    "from IPython.display import Image, display\n",
    "import os"
   ]
  },
  {
   "cell_type": "code",
   "execution_count": null,
   "metadata": {},
   "outputs": [],
   "source": [
    "# set paths and all required arguments¶\n",
    "trajectory_file = \"data/input.xtc\" \n",
    "topology_file = \"data/input.gro\" \n",
    "atom_selection_global = \"protein\"\n",
    "atom_selection_local = \"resid 120:160\"\n",
    "strata_number = 200\n",
    "size = 10\n",
    "dissimilarity_measure = d.Bhattacharyya\n",
    "\n",
    "# set a temporary directory to save all output files\n",
    "temp_dir = tempfile.mkdtemp()"
   ]
  },
  {
   "cell_type": "code",
   "execution_count": null,
   "metadata": {},
   "outputs": [],
   "source": [
    "# create a protein data object\n",
    "p_data = prot.ProteinData(trajectory_file,topology_file,config_parameters=None)"
   ]
  },
  {
   "cell_type": "code",
   "execution_count": null,
   "metadata": {},
   "outputs": [],
   "source": [
    "# create a protein property object\n",
    "p_property_global = gp.RMSD(p_data, atom_selection_global, fit=True)\n",
    "p_property_local = gp.RMSD(p_data, atom_selection_global, fit=True)"
   ]
  },
  {
   "cell_type": "code",
   "execution_count": null,
   "metadata": {},
   "outputs": [],
   "source": [
    "# calculate reference property for full trajectory\n",
    "p_property_global.calculate_property()\n",
    "p_property_local.calculate_property()"
   ]
  },
  {
   "cell_type": "code",
   "execution_count": null,
   "metadata": {},
   "outputs": [],
   "source": [
    "# create uniform sampler object \n",
    "sampler_uniform = s.UniformSampler(\n",
    "            protein_property=p_property_global,\n",
    "            protein_data=p_data,\n",
    "            output_folder=temp_dir,\n",
    "            file_prefix='adv_sc1',\n",
    "            strata_number = strata_number,\n",
    "            dissimilarity_measure=dissimilarity_measure,\n",
    "        )\n",
    "\n",
    "sampler_weighted = s.WeightedSampler(\n",
    "            protein_property=p_property_local,\n",
    "            protein_data=p_data,\n",
    "            output_folder=temp_dir,\n",
    "            file_prefix='adv_sc1',\n",
    "            weights_vector=None,\n",
    "            seed_number=1999,\n",
    "            dissimilarity_measure=dissimilarity_measure,\n",
    "        )"
   ]
  },
  {
   "cell_type": "code",
   "execution_count": null,
   "metadata": {},
   "outputs": [],
   "source": [
    "# generate sampled property for specific sample size\n",
    "sampled_property_global = sampler_uniform.sample(round(int(size) * p_data.n_frames / 100))\n",
    "sampled_property_local = sampler_weighted.sample(round(int(size) * p_data.n_frames / 100))"
   ]
  },
  {
   "cell_type": "code",
   "execution_count": null,
   "metadata": {},
   "outputs": [],
   "source": [
    "# check the output files generated in the temporary directory \n",
    "print(os.listdir(temp_dir))"
   ]
  },
  {
   "cell_type": "code",
   "execution_count": null,
   "metadata": {},
   "outputs": [],
   "source": [
    "# display all distribution plots for all sample sizes \n",
    "for fname in (os.listdir(temp_dir)):\n",
    "    fpath = os.path.join(temp_dir, fname)\n",
    "    _, ext = os.path.splitext(fname)\n",
    "    if ext == '.png':\n",
    "        print(fname)\n",
    "        display(Image(filename=fpath))"
   ]
  },
  {
   "cell_type": "code",
   "execution_count": null,
   "metadata": {},
   "outputs": [],
   "source": [
    "# display tables with calculated property for all different sample sizes\n",
    "for fname in os.listdir(temp_dir):\n",
    "    fpath = os.path.join(temp_dir, fname)\n",
    "    _, ext = os.path.splitext(fname)\n",
    "    if ext == '.dat':\n",
    "            with open(fpath, 'r') as file:\n",
    "                contents = file.read()\n",
    "                print(fname)\n",
    "                print('-----------------------')\n",
    "                print(contents)  \n",
    "                print('-----------------------')"
   ]
  }
 ],
 "metadata": {
  "interpreter": {
   "hash": "51d32f347e4adfe14467e13533c0a5cec74c84358d32d22a71b7ef0a094ea8b1"
  },
  "kernelspec": {
   "display_name": "Python 3.8.10 ('mdsubsampler-tIoKDgOV-py3.9')",
   "language": "python",
   "name": "python3"
  },
  "language_info": {
   "name": "python",
   "version": "3.8.10"
  },
  "orig_nbformat": 4
 },
 "nbformat": 4,
 "nbformat_minor": 2
}
